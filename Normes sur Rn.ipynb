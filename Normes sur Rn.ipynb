{
 "cells": [
  {
   "cell_type": "code",
   "execution_count": 1,
   "metadata": {},
   "outputs": [],
   "source": [
    "from IPython.display import HTML\n",
    "from ipywidgets import interact\n",
    "%matplotlib inline\n"
   ]
  },
  {
   "cell_type": "markdown",
   "metadata": {},
   "source": [
    "# Des boules dans différentes normes du plan"
   ]
  },
  {
   "cell_type": "code",
   "execution_count": 2,
   "metadata": {},
   "outputs": [
    {
     "data": {
      "text/html": [
       "\n",
       "<p><a href=\"https://commons.wikimedia.org/wiki/File:Cube_Watermelons_for_Sale_in_Munich,_Germany_Market.jpg#/media/File:Cube_Watermelons_for_Sale_in_Munich,_Germany_Market.jpg\"><img src=\"https://upload.wikimedia.org/wikipedia/commons/thumb/1/10/Cube_Watermelons_for_Sale_in_Munich%2C_Germany_Market.jpg/1200px-Cube_Watermelons_for_Sale_in_Munich%2C_Germany_Market.jpg\" alt=\"Cube Watermelons for Sale in Munich, Germany Market.jpg\" style=\"width: 50vw\"></a><br>By Francisco Antunes - <a rel=\"nofollow\" class=\"external free\" href=\"https://www.flickr.com/photos/francisco-antunes/3815031014/\">https://www.flickr.com/photos/francisco-antunes/3815031014/</a>, <a href=\"https://creativecommons.org/licenses/by/2.0\" title=\"Creative Commons Attribution 2.0\">CC BY 2.0</a>, <a href=\"https://commons.wikimedia.org/w/index.php?curid=70106531\">Link</a></p>\n"
      ],
      "text/plain": [
       "<IPython.core.display.HTML object>"
      ]
     },
     "execution_count": 2,
     "metadata": {},
     "output_type": "execute_result"
    }
   ],
   "source": [
    "HTML(\"\"\"\n",
    "<p><a href=\"https://commons.wikimedia.org/wiki/File:Cube_Watermelons_for_Sale_in_Munich,_Germany_Market.jpg#/media/File:Cube_Watermelons_for_Sale_in_Munich,_Germany_Market.jpg\"><img src=\"https://upload.wikimedia.org/wikipedia/commons/thumb/1/10/Cube_Watermelons_for_Sale_in_Munich%2C_Germany_Market.jpg/1200px-Cube_Watermelons_for_Sale_in_Munich%2C_Germany_Market.jpg\" alt=\"Cube Watermelons for Sale in Munich, Germany Market.jpg\" style=\"width: 50vw\"></a><br>By Francisco Antunes - <a rel=\"nofollow\" class=\"external free\" href=\"https://www.flickr.com/photos/francisco-antunes/3815031014/\">https://www.flickr.com/photos/francisco-antunes/3815031014/</a>, <a href=\"https://creativecommons.org/licenses/by/2.0\" title=\"Creative Commons Attribution 2.0\">CC BY 2.0</a>, <a href=\"https://commons.wikimedia.org/w/index.php?curid=70106531\">Link</a></p>\n",
    "\"\"\")"
   ]
  },
  {
   "cell_type": "code",
   "execution_count": 3,
   "metadata": {},
   "outputs": [
    {
     "data": {
      "text/html": [
       "\n",
       "<video width=\"640\" controls>\n",
       "  <source src=\"Norme1.mp4\" type=\"video/mp4\">\n",
       "</video>\n"
      ],
      "text/plain": [
       "<IPython.core.display.HTML object>"
      ]
     },
     "execution_count": 3,
     "metadata": {},
     "output_type": "execute_result"
    }
   ],
   "source": [
    "HTML(\"\"\"\n",
    "<video width=\"640\" controls>\n",
    "  <source src=\"Norme1.mp4\" type=\"video/mp4\">\n",
    "</video>\n",
    "\"\"\")"
   ]
  },
  {
   "cell_type": "code",
   "execution_count": 4,
   "metadata": {},
   "outputs": [
    {
     "data": {
      "application/vnd.jupyter.widget-view+json": {
       "model_id": "ad2273403b494cbab0f9c7e3e0f0c4fb",
       "version_major": 2,
       "version_minor": 0
      },
      "text/plain": [
       "interactive(children=(FloatSlider(value=5.0, description='p', max=10.0, min=1.0, step=0.2), Output()), _dom_cl…"
      ]
     },
     "metadata": {},
     "output_type": "display_data"
    },
    {
     "data": {
      "text/plain": [
       "<function __main__.update_plot(p)>"
      ]
     },
     "execution_count": 4,
     "metadata": {},
     "output_type": "execute_result"
    }
   ],
   "source": [
    "import ipywidgets as widgets\n",
    "from IPython.display import display\n",
    "import numpy as np\n",
    "import matplotlib.pyplot as plt\n",
    "from math import pi\n",
    "\n",
    "\n",
    "\n",
    "p_min = 1   # the minimial value of the parameter a\n",
    "p_max = 20   # the maximal value of the parameter a\n",
    "p_init = 2   # the value of the parameter a to be used initially, when the graph is created\n",
    "\n",
    "x = np.linspace(-1, 1, 500)\n",
    "\n",
    "#fig,ax = plt.subplots(1,figsize=(6,6))\n",
    "\n",
    "\n",
    "\n",
    "def update_plot(p):\n",
    "    fig = plt.figure()\n",
    "    ax=fig.gca()\n",
    "    ax.clear()\n",
    "    plt.xlim(-1.5, 1.5)\n",
    "    plt.ylim(-1.5, 1.5)\n",
    "    plt.plot(x, (1-abs(x)**p)**(1/p), 'r')\n",
    "    plt.plot(x, -(1-abs(x)**p)**(1/p), 'r')\n",
    "    plt.show()\n",
    "\n",
    "\n",
    "#plt.title(\"Boule unité pour la norme p\")\n",
    "\n",
    "interact ( update_plot, p = (1,10,0.2) )\n",
    "\n",
    "#p=widgets.FloatSlider(min=p_min, max=p_max,value=p_init,description=\"p\")\n",
    "\n",
    "\n",
    "#widgets.interactive(update_plot, p=p)\n"
   ]
  },
  {
   "cell_type": "code",
   "execution_count": 5,
   "metadata": {},
   "outputs": [
    {
     "data": {
      "application/vnd.jupyter.widget-view+json": {
       "model_id": "447b470fceff40a4a67eac2680e33591",
       "version_major": 2,
       "version_minor": 0
      },
      "text/plain": [
       "interactive(children=(IntSlider(value=5, description='p', max=10, min=1), Output()), _dom_classes=('widget-int…"
      ]
     },
     "metadata": {},
     "output_type": "display_data"
    },
    {
     "data": {
      "text/plain": [
       "<function __main__.update(p)>"
      ]
     },
     "execution_count": 5,
     "metadata": {},
     "output_type": "execute_result"
    }
   ],
   "source": [
    "\n",
    "import matplotlib.pyplot as plt\n",
    "from mpl_toolkits.mplot3d import Axes3D\n",
    "from matplotlib.widgets import Slider  # import the Slider widget\n",
    "import ipywidgets as widgets\n",
    "from IPython.display import display\n",
    "\n",
    "import numpy as np\n",
    "\n",
    "\n",
    "p_min = 1   # the minimial value of the parameter a\n",
    "p_max = 5   # the maximal value of the parameter a\n",
    "p_init = 2 \n",
    "\n",
    "\n",
    "n=10\n",
    "\n",
    "\n",
    "\n",
    "\n",
    "def update(p):\n",
    "    fig = plt.figure()\n",
    "    ax = fig.gca(projection='3d')\n",
    "\n",
    "    ax.clear()\n",
    "    \n",
    "    x=[]\n",
    "    y=[]\n",
    "    for i in np.linspace(-1,1,2*n):\n",
    "        for j in np.linspace(-(1-np.abs(i)**p)**(1/p), (1-np.abs(i)**p)**(1/p),n):\n",
    "            x=x+[i]\n",
    "            y=y+[j]\n",
    "    x=np.array(x)\n",
    "    y=np.array(y)\n",
    "    z1=(np.abs(1-np.abs(x)**p-np.abs(y)**p))**(1/p)\n",
    "    z2=-z1\n",
    "    ax.plot_trisurf(x, y, z1, linewidth=0.2, antialiased=True, color='b')\n",
    "    ax.plot_trisurf(x, y, z2, linewidth=0.2, antialiased=True, color='b')\n",
    "    fig.canvas.draw_idle() \n",
    "    plt.show()\n",
    "\n",
    "#p=widgets.FloatSlider(min=p_min, max=p_max,value=p_init,description=\"p\")\n",
    "\n",
    "#widgets.interactive(update, p=p)\n",
    "\n",
    "interact ( update, p = (1,10,1) )\n"
   ]
  },
  {
   "cell_type": "code",
   "execution_count": null,
   "metadata": {},
   "outputs": [],
   "source": []
  }
 ],
 "metadata": {
  "kernelspec": {
   "display_name": "Python 3",
   "language": "python",
   "name": "python3"
  },
  "language_info": {
   "codemirror_mode": {
    "name": "ipython",
    "version": 3
   },
   "file_extension": ".py",
   "mimetype": "text/x-python",
   "name": "python",
   "nbconvert_exporter": "python",
   "pygments_lexer": "ipython3",
   "version": "3.7.2"
  }
 },
 "nbformat": 4,
 "nbformat_minor": 2
}
